{
 "cells": [
  {
   "cell_type": "code",
   "execution_count": 2,
   "metadata": {
    "collapsed": true
   },
   "outputs": [],
   "source": [
    "import pandas as pd\n",
    "import matplotlib as plt\n",
    "\n",
    "data = pd.read_csv(\"data.csv\")\n",
    "df = pd.DataFrame(data)"
   ]
  },
  {
   "cell_type": "code",
   "execution_count": 5,
   "metadata": {},
   "outputs": [
    {
     "name": "stdout",
     "output_type": "stream",
     "text": [
      "   record_id  redcap_survey_identifier  \\\n",
      "0          1                       NaN   \n",
      "1          2                       NaN   \n",
      "\n",
      "  short_questionnaire_transcription_project_timestamp  wer  usefulness  \\\n",
      "0                                2023-01-21 13:32:53     1           5   \n",
      "1                                2023-02-14 09:50:58     2           5   \n",
      "\n",
      "   understandability  future_use  \\\n",
      "0                  5           5   \n",
      "1                  4           5   \n",
      "\n",
      "                                        improvements  \\\n",
      "0  Very minor grammar issues. Word gender may be ...   \n",
      "1  The recognition of the person speaking would b...   \n",
      "\n",
      "   short_questionnaire_transcription_project_complete  \n",
      "0                                                  2   \n",
      "1                                                  2   \n"
     ]
    }
   ],
   "source": [
    "df.loc[]"
   ]
  },
  {
   "cell_type": "code",
   "execution_count": null,
   "metadata": {},
   "outputs": [],
   "source": []
  }
 ],
 "metadata": {
  "kernelspec": {
   "display_name": "Python 3 (ipykernel)",
   "language": "python",
   "name": "python3"
  },
  "language_info": {
   "codemirror_mode": {
    "name": "ipython",
    "version": 3
   },
   "file_extension": ".py",
   "mimetype": "text/x-python",
   "name": "python",
   "nbconvert_exporter": "python",
   "pygments_lexer": "ipython3",
   "version": "3.10.6"
  }
 },
 "nbformat": 4,
 "nbformat_minor": 1
}
